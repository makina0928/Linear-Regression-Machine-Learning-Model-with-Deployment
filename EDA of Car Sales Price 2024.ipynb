{
 "cells": [
  {
   "cell_type": "markdown",
   "id": "5eb539a5-8aca-41a9-b182-1374b26cb5a6",
   "metadata": {},
   "source": [
    "# EDA of Car Sales Price 2024"
   ]
  },
  {
   "cell_type": "markdown",
   "id": "acef341e-e99e-4bb6-b6d2-27137a8ab561",
   "metadata": {},
   "source": [
    "## Data Source Link: [Kaggle](https://www.kaggle.com/datasets/mmakarovlab/serbia-car-sales-prices)"
   ]
  },
  {
   "cell_type": "markdown",
   "id": "2ed76174-8916-4522-bdce-38c464efcb7d",
   "metadata": {},
   "source": [
    "## Data Dictionary"
   ]
  },
  {
   "cell_type": "markdown",
   "id": "ce3db9f0-866a-49bc-b972-16b834769d01",
   "metadata": {},
   "source": [
    "**views** - The total number of views the car listing has received.<br>\n",
    "**favorite** -\tThe number of users who have added the car to their favorite list.<br>\n",
    "**post_info** -\tAdditional information about the post, such as the date it was created or any special notes provided by the seller.<br>\n",
    "**price** -\tThe price of the car in Euro.<br>\n",
    "**car_name** -\tmanufacturer and model.<br>\n",
    "**year** -\tThe year the car was manufactured.<br>\n",
    "**A/C** -\tIndicates whether the car is equipped with air conditioning.<br>\n",
    "**emission_class** -\tThe car’s emission standard classification.<br>\n",
    "**seats_amount** -\tThe number of seats in the car.<br>\n",
    "**horsepower** -\tThe engine power measured in horsepower.<br>\n",
    "**color** -\tThe exterior color of the car.<br>\n",
    "**car_mileage, km** -\tThe car’s mileage in kilometers.<br>\n",
    "**engine_capacity, cc** -\tThe engine capacity in cubic centimeters (cc).<br>\n",
    "**type_of_drive** -\tIndicates the type of drive, such as front-wheel drive or all-wheel drive.<br>\n",
    "**doors** -\tThe number of doors on the car.<br>\n",
    "**fuel** -\tThe type of fuel the car uses, such as gasoline or diesel.<br>\n",
    "**car_type** -\tThe category or body style of the car (e.g., sedan, SUV, hatchback).<br>\n",
    "**gearbox** -\tThe type of transmission, such as manual or automatic.<br>\n",
    "**post_info** - contains information about date when announcement was created or updated since ***08.10.2024***. So if you want to get date you need to subtract days/weeks/months in column from 08.10.2024."
   ]
  },
  {
   "cell_type": "markdown",
   "id": "625ac45b-6a01-4c8d-9988-117a15907449",
   "metadata": {},
   "source": [
    "## Data import"
   ]
  },
  {
   "cell_type": "code",
   "execution_count": 21,
   "id": "400ce330-619b-48e4-b7b9-6685453b3589",
   "metadata": {},
   "outputs": [],
   "source": [
    "import pandas as pd"
   ]
  },
  {
   "cell_type": "code",
   "execution_count": 29,
   "id": "1bfccf01-4367-43d7-b5fa-37e93ffa8a3f",
   "metadata": {},
   "outputs": [
    {
     "data": {
      "text/html": [
       "<div>\n",
       "<style scoped>\n",
       "    .dataframe tbody tr th:only-of-type {\n",
       "        vertical-align: middle;\n",
       "    }\n",
       "\n",
       "    .dataframe tbody tr th {\n",
       "        vertical-align: top;\n",
       "    }\n",
       "\n",
       "    .dataframe thead th {\n",
       "        text-align: right;\n",
       "    }\n",
       "</style>\n",
       "<table border=\"1\" class=\"dataframe\">\n",
       "  <thead>\n",
       "    <tr style=\"text-align: right;\">\n",
       "      <th></th>\n",
       "      <th>views</th>\n",
       "      <th>favorite</th>\n",
       "      <th>post_info</th>\n",
       "      <th>price</th>\n",
       "      <th>car_name</th>\n",
       "      <th>year</th>\n",
       "      <th>A/C</th>\n",
       "      <th>emission_class</th>\n",
       "      <th>seats_amount</th>\n",
       "      <th>horsepower</th>\n",
       "      <th>color</th>\n",
       "      <th>car_mileage, km</th>\n",
       "      <th>engine_capacity, cc</th>\n",
       "      <th>type_of_drive</th>\n",
       "      <th>doors</th>\n",
       "      <th>fuel</th>\n",
       "      <th>car_type</th>\n",
       "      <th>gearbox</th>\n",
       "    </tr>\n",
       "  </thead>\n",
       "  <tbody>\n",
       "    <tr>\n",
       "      <th>0</th>\n",
       "      <td>58</td>\n",
       "      <td>0</td>\n",
       "      <td>posted a week ago</td>\n",
       "      <td>1100</td>\n",
       "      <td>Alfa Romeo 11.9</td>\n",
       "      <td>2002</td>\n",
       "      <td>NaN</td>\n",
       "      <td>NaN</td>\n",
       "      <td>NaN</td>\n",
       "      <td>NaN</td>\n",
       "      <td>NaN</td>\n",
       "      <td>NaN</td>\n",
       "      <td>NaN</td>\n",
       "      <td>NaN</td>\n",
       "      <td>NaN</td>\n",
       "      <td>NaN</td>\n",
       "      <td>NaN</td>\n",
       "      <td>NaN</td>\n",
       "    </tr>\n",
       "    <tr>\n",
       "      <th>1</th>\n",
       "      <td>55</td>\n",
       "      <td>0</td>\n",
       "      <td>posted 2 days ago</td>\n",
       "      <td>1100</td>\n",
       "      <td>Alfa Romeo 145</td>\n",
       "      <td>2000</td>\n",
       "      <td>manual A/C</td>\n",
       "      <td>Euro 3</td>\n",
       "      <td>5.0</td>\n",
       "      <td>106 HP (78 kW)</td>\n",
       "      <td>gray</td>\n",
       "      <td>158546.0</td>\n",
       "      <td>1400.0</td>\n",
       "      <td>front</td>\n",
       "      <td>2/3 doors</td>\n",
       "      <td>petrol + gas</td>\n",
       "      <td>hatchback</td>\n",
       "      <td>manual, 5 speeds</td>\n",
       "    </tr>\n",
       "    <tr>\n",
       "      <th>2</th>\n",
       "      <td>136</td>\n",
       "      <td>4</td>\n",
       "      <td>posted 2 weeks ago</td>\n",
       "      <td>950</td>\n",
       "      <td>Alfa Romeo 145</td>\n",
       "      <td>1999</td>\n",
       "      <td>manual A/C</td>\n",
       "      <td>Euro 3</td>\n",
       "      <td>5.0</td>\n",
       "      <td>105 HP (77 kW)</td>\n",
       "      <td>green</td>\n",
       "      <td>337000.0</td>\n",
       "      <td>1910.0</td>\n",
       "      <td>front</td>\n",
       "      <td>2/3 doors</td>\n",
       "      <td>diesel</td>\n",
       "      <td>hatchback</td>\n",
       "      <td>manual, 5 speeds</td>\n",
       "    </tr>\n",
       "  </tbody>\n",
       "</table>\n",
       "</div>"
      ],
      "text/plain": [
       "   views  favorite           post_info  price         car_name  year  \\\n",
       "0     58         0   posted a week ago   1100  Alfa Romeo 11.9  2002   \n",
       "1     55         0   posted 2 days ago   1100   Alfa Romeo 145  2000   \n",
       "2    136         4  posted 2 weeks ago    950   Alfa Romeo 145  1999   \n",
       "\n",
       "          A/C emission_class  seats_amount      horsepower  color  \\\n",
       "0         NaN            NaN           NaN             NaN    NaN   \n",
       "1  manual A/C         Euro 3           5.0  106 HP (78 kW)   gray   \n",
       "2  manual A/C         Euro 3           5.0  105 HP (77 kW)  green   \n",
       "\n",
       "   car_mileage, km  engine_capacity, cc type_of_drive      doors  \\\n",
       "0              NaN                  NaN           NaN        NaN   \n",
       "1         158546.0               1400.0         front  2/3 doors   \n",
       "2         337000.0               1910.0         front  2/3 doors   \n",
       "\n",
       "           fuel   car_type           gearbox  \n",
       "0           NaN        NaN               NaN  \n",
       "1  petrol + gas  hatchback  manual, 5 speeds  \n",
       "2        diesel  hatchback  manual, 5 speeds  "
      ]
     },
     "execution_count": 29,
     "metadata": {},
     "output_type": "execute_result"
    }
   ],
   "source": [
    "data = pd.read_csv('serbia_car_sales_price_2024_v2.csv')\n",
    "data.head(3)"
   ]
  },
  {
   "cell_type": "code",
   "execution_count": null,
   "id": "a1becb8c-a259-4f7f-b427-9860caabc2f1",
   "metadata": {},
   "outputs": [],
   "source": []
  }
 ],
 "metadata": {
  "kernelspec": {
   "display_name": "Python 3 (ipykernel)",
   "language": "python",
   "name": "python3"
  },
  "language_info": {
   "codemirror_mode": {
    "name": "ipython",
    "version": 3
   },
   "file_extension": ".py",
   "mimetype": "text/x-python",
   "name": "python",
   "nbconvert_exporter": "python",
   "pygments_lexer": "ipython3",
   "version": "3.12.4"
  }
 },
 "nbformat": 4,
 "nbformat_minor": 5
}
